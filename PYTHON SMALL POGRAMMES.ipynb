{
 "cells": [
  {
   "cell_type": "code",
   "execution_count": 1,
   "id": "42c1e70f-976f-4643-aa95-e12b44cb387f",
   "metadata": {},
   "outputs": [],
   "source": [
    "# Time(DAY AND NIGHT)"
   ]
  },
  {
   "cell_type": "code",
   "execution_count": null,
   "id": "6c5784f5-280e-4257-8d07-bd21b628386b",
   "metadata": {},
   "outputs": [],
   "source": [
    "time =int(input('Enter time'))\n",
    "if time >12 and time <17  :\n",
    "    print('Good Afternoon')\n",
    "elif time <12 :\n",
    "    print('Good Morning ')\n",
    "elif time >17 and time < 23:\n",
    "    print('Good night')\n",
    "else :\n",
    "    print('G')"
   ]
  },
  {
   "cell_type": "code",
   "execution_count": null,
   "id": "f087b033-88b8-446f-8d17-fb6fbbe64657",
   "metadata": {},
   "outputs": [],
   "source": [
    "# Make a programme of Malaria and Dengue "
   ]
  },
  {
   "cell_type": "code",
   "execution_count": 9,
   "id": "73fd6e54-fead-4db9-a56b-f81a60ccb3ac",
   "metadata": {},
   "outputs": [
    {
     "name": "stdin",
     "output_type": "stream",
     "text": [
      "Enter your body tempreature in fe 101\n",
      "Enter your pt count 1\n"
     ]
    },
    {
     "name": "stdout",
     "output_type": "stream",
     "text": [
      "Dengue and malaria\n"
     ]
    }
   ],
   "source": [
    "body_temp = float(input('Enter your body tempreature in fe'))\n",
    "if body_temp == 98.7:\n",
    "    print(\"Malaria is not found\")\n",
    "    pt_count = float(input('Enter your pt count'))\n",
    "    if pt_count <1.8 :\n",
    "        print(\"Dengue\")\n",
    "    else:\n",
    "        print('you are lucky you are alive ')\n",
    "elif body_temp >98.7 and body_temp <99:\n",
    "    print('Normall temp')\n",
    "elif  body_temp >99 and body_temp<102:\n",
    "    pt_count = float(input('Enter your pt count'))\n",
    "    if pt_count <1.8 :\n",
    "        print(\"Dengue and malaria\")\n",
    "    else:\n",
    "        print('May be malaria')\n",
    "elif body_temp >102:\n",
    "     pt_count = float(input('Enter your pt count'))\n",
    "     if pt_count <1.8 :\n",
    "        print(\"severe condition get admit in hospital \")\n",
    "     else:\n",
    "        print('High fever with malaria')\n",
    "else:\n",
    "    print('Normal person')\n",
    "    "
   ]
  },
  {
   "cell_type": "code",
   "execution_count": null,
   "id": "41d629d6-c731-4094-9997-2f2efc3f7340",
   "metadata": {},
   "outputs": [],
   "source": [
    "# season and activity Suggestion according to time"
   ]
  },
  {
   "cell_type": "code",
   "execution_count": 20,
   "id": "aaf23a4f-d8aa-4cb2-9b68-6d1bbf6a0ad9",
   "metadata": {},
   "outputs": [
    {
     "name": "stdin",
     "output_type": "stream",
     "text": [
      "Enter the season GEn\n"
     ]
    },
    {
     "name": "stdout",
     "output_type": "stream",
     "text": [
      "Enter the correct season name\n"
     ]
    }
   ],
   "source": [
    "season = input('Enter the season').lower()\n",
    "if season == 'Summer':\n",
    "    time = input('Enter the time ')\n",
    "    if time == 'morning':\n",
    "        print('preferred game is swimming')\n",
    "    elif time == \"Evening\":\n",
    "         print('preferred game is cricket')\n",
    "    else:\n",
    "        print('Enter the valid time ')\n",
    "elif season == 'Winter' :\n",
    "     time = input('Enter the time ')\n",
    "     if time == 'morning':\n",
    "        print('preferred game is cricket')\n",
    "     else:\n",
    "        print('preferred game is badminton')\n",
    "elif season == 'Rainy':\n",
    "     time = input('Enter the time ')\n",
    "     if time == 'morning':\n",
    "        print('preferred game is football')\n",
    "     else :\n",
    "        print('preferred game is chess')\n",
    "else:\n",
    "    print('Enter the correct season name')"
   ]
  },
  {
   "cell_type": "code",
   "execution_count": 14,
   "id": "8f605fb7-014f-462c-87e7-8bd3f5b46c8a",
   "metadata": {},
   "outputs": [
    {
     "name": "stdin",
     "output_type": "stream",
     "text": [
      "Enter your category gen\n",
      "enter your percentile 65\n",
      "Enter your previous year passing status pass\n"
     ]
    },
    {
     "name": "stdout",
     "output_type": "stream",
     "text": [
      "you are not eligible for scholership\n"
     ]
    }
   ],
   "source": [
    "# ScholerShip \n",
    "category = input('Enter your category').lower()\n",
    "percentile = int(input('enter your percentile'))\n",
    "previous = input('Enter your previous year passing status').lower()\n",
    "if previous == 'pass':\n",
    "    if category == 'gen':\n",
    "        if percentile >= 90:\n",
    "            print('You will get an 5 k scholership')\n",
    "        else:\n",
    "            print('you are not eligible for scholership')\n",
    "    elif category == 'obc' :\n",
    "        if percentile>85 and  percentile<100:\n",
    "            print('You will get an 15k scholership')\n",
    "        elif percentile>75 and  Percentile<=85:\n",
    "             print('You will get an 12k scholership')\n",
    "        elif percentile >65 and  Percentile<=75:\n",
    "            print('You will get an 11k scholership')\n",
    "        else:\n",
    "            print('you will get an 10k scholership')\n",
    "    \n",
    "    elif category == 'sc' :\n",
    "        if percentile >85 and  percentile<100:\n",
    "             print('You will get an 30k scholership')\n",
    "        elif percentile >75 and  percentile<=85:\n",
    "              print('You will get an 24k scholership')\n",
    "        elif percentile >65 and  percentile<=75:\n",
    "            print('You will get an 22k scholership')\n",
    "        else:\n",
    "             print('you will get an 20k scholership')\n",
    "    elif category == 'st' :\n",
    "        if percentile >85 and  percentile<100:\n",
    "             print('You will get an 45k scholership')\n",
    "        elif percentile >75 and percentile <=85:\n",
    "             print('You will get an 36k scholership')\n",
    "        elif percentile >65 and  percentile<=75:\n",
    "             print('You will get an 33k scholership')\n",
    "        else:\n",
    "             print('you will get an 30k scholership')\n",
    "    else:\n",
    "        print('Enter the valid category|')\n",
    "else:\n",
    "    print('You will not get the scholer ship because you are fail in your previous semester')\n",
    "   \n",
    "    \n"
   ]
  },
  {
   "cell_type": "code",
   "execution_count": null,
   "id": "f8120533-f607-4173-a60e-3fad3ed212c2",
   "metadata": {},
   "outputs": [],
   "source": [
    "# LOAN EMI CALCULA\n",
    "salary = int(input(\"Enter your salary amount\"))\n",
    "Emi_Deduction = salary*20/100\n",
    "Previous_emi = int(input('Enter the previous emi amount')) \n",
    "if Previous_emi >= salary*40/100 :\n",
    "    print(\"Your  previous emi is greater than your 40% salary\\n so You will not get the loan\" )\n",
    "else:\n",
    "    Family_member = int(input('Enter how many family member you have'))\n",
    "    Expenses = Family_member*4000\n",
    "    if Expenses >= salary*60/100:\n",
    "        print('You are not eligible for loan because \\n your salary exceds 40 % the limit of expense on your family')\n",
    "    else:\n",
    "        credit_score = int(input(\"Enter your credit score\"))\n",
    "        if credit_score >=850 :\n",
    "            print('Your ROI will be 13%')\n",
    "            ROI = 13\n",
    "            loan_amount = int(input('Enter your required loan amount'))\n",
    "            loan_duration = int(input('Enter for how many month you want the loan '))\n",
    "            emi_calculator = loan_amount/ loan_duration + ROI / loan_duration\n",
    "            if emi_calculator >= salary*50/100 :\n",
    "             print('You are not eligible for loan beacause \\n your emi exced the 50% of you total emi')\n",
    "            else:\n",
    "                print('Congratulation your loan is approved and your emi will be  ', emi_calculator)\n",
    "            \n",
    "        else:\n",
    "            print('Your ROI will be 15%')\n",
    "            ROI = 15\n",
    "            loan_amount = int(input('Enter your required loan amount'))\n",
    "            loan_duration = int(input('Enter for how many month you want the loan '))\n",
    "            emi_calculator = loan_amount/ loan_duration + ROI / loan_duration\n",
    "            if emi_calculator >= salary*50/100 :\n",
    "             print('You are not eligible for loan beacause \\n your emi exced the 50% of you total emi')\n",
    "            else:\n",
    "                print('Congratulation your loan is approved and your emi will be  ', emi_calculator)\n",
    "            \n",
    "    "
   ]
  },
  {
   "cell_type": "code",
   "execution_count": null,
   "id": "47f646a2-7638-471f-a714-011add77e822",
   "metadata": {},
   "outputs": [],
   "source": []
  },
  {
   "cell_type": "code",
   "execution_count": null,
   "id": "3e0f3e61-c8ef-4961-81d0-5b1d273dc492",
   "metadata": {},
   "outputs": [],
   "source": []
  },
  {
   "cell_type": "code",
   "execution_count": null,
   "id": "25b306ef-2991-4437-9a7e-cd8df900de98",
   "metadata": {},
   "outputs": [],
   "source": []
  },
  {
   "cell_type": "code",
   "execution_count": null,
   "id": "ca2ae90a-c4db-4fdf-a8d5-eb3e468d32a4",
   "metadata": {},
   "outputs": [],
   "source": []
  }
 ],
 "metadata": {
  "kernelspec": {
   "display_name": "Python 3 (ipykernel)",
   "language": "python",
   "name": "python3"
  },
  "language_info": {
   "codemirror_mode": {
    "name": "ipython",
    "version": 3
   },
   "file_extension": ".py",
   "mimetype": "text/x-python",
   "name": "python",
   "nbconvert_exporter": "python",
   "pygments_lexer": "ipython3",
   "version": "3.10.10"
  }
 },
 "nbformat": 4,
 "nbformat_minor": 5
}
